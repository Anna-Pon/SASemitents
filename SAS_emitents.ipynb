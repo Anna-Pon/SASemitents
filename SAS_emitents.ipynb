{
  "nbformat": 4,
  "nbformat_minor": 0,
  "metadata": {
    "colab": {
      "name": "SAS_emitents",
      "provenance": [],
      "collapsed_sections": [
        "MQlenkUZl4E7",
        "QNNS74AxJW_A",
        "t_2jIY11JN99",
        "-hjEFz2ZJo-C",
        "7B1EB9jqUQaA",
        "m3pIezkIpP71",
        "HdZHQFgikf3_",
        "nZ2ui4o7mYKi"
      ]
    },
    "kernelspec": {
      "name": "python3",
      "display_name": "Python 3"
    },
    "language_info": {
      "name": "python"
    }
  },
  "cells": [
    {
      "cell_type": "code",
      "metadata": {
        "id": "rdqacc5kLKSc"
      },
      "source": [
        "import pandas as pd\n",
        "import numpy as np\n",
        "\n",
        "from itertools import compress\n",
        "import re\n",
        "from tqdm import tqdm\n",
        "import warnings\n",
        "import nltk\n",
        "warnings.filterwarnings('ignore')"
      ],
      "execution_count": null,
      "outputs": []
    },
    {
      "cell_type": "code",
      "metadata": {
        "colab": {
          "base_uri": "https://localhost:8080/"
        },
        "id": "gBqwc1-NoMWQ",
        "outputId": "597cd0d6-a661-46cf-90a0-162144cf6521"
      },
      "source": [
        "! git clone https://github.com/Anna-Pon/SASemitents"
      ],
      "execution_count": null,
      "outputs": [
        {
          "output_type": "stream",
          "text": [
            "Cloning into 'SASemitents'...\n",
            "remote: Enumerating objects: 20, done.\u001b[K\n",
            "remote: Counting objects: 100% (20/20), done.\u001b[K\n",
            "remote: Compressing objects: 100% (17/17), done.\u001b[K\n",
            "remote: Total 20 (delta 1), reused 0 (delta 0), pack-reused 0\u001b[K\n",
            "Unpacking objects: 100% (20/20), done.\n"
          ],
          "name": "stdout"
        }
      ]
    },
    {
      "cell_type": "markdown",
      "metadata": {
        "id": "VXULZZs5Mi8p"
      },
      "source": [
        "# Автоматизация работы с документами: извлечение сущностей и фактов из сообщений о раскрытии\n",
        "\n",
        "\n",
        "Задача:\n",
        "Собрать не менее 300 решений общих собраний участников (акционеров) с сайта e-disclosure.ru в формате .html страниц.\n",
        "Разработать инструмент по парсингу html страниц и извлечению из них текста решения.\n",
        "\n",
        "Разработать инструмент по извлечению из данных решений следующей информации:\n",
        "\n",
        "Полное и сокращенное наименование эмитента\n",
        "\n",
        "Адрес, ИНН, ОГРН эмитента\n",
        "\n",
        "Дата и форма собрания\n",
        "\n",
        "Наименование и ИНН утвержденного аудитора + тип отчетности, которую ему поручено проверять (при наличии)\n",
        "\n",
        "Утвержденный состав совета директоров (при наличии)\n",
        "\n",
        "Поднимался ли на собрании вопрос о выплате дивидендов и если да, то какое решение принято (3 варианта: “принято решение выплатить дивиденды”, “принято решение не выплачивать дивиденды”, “вопрос не поднимался”)"
      ]
    },
    {
      "cell_type": "markdown",
      "metadata": {
        "id": "MQlenkUZl4E7"
      },
      "source": [
        "# Сбор данных"
      ]
    },
    {
      "cell_type": "code",
      "metadata": {
        "id": "CjA0yy057rd9"
      },
      "source": [
        "#website_content = open('website.txt').read()\n",
        "website_content = open('/content/SASemitents/website.txt').read()"
      ],
      "execution_count": null,
      "outputs": []
    },
    {
      "cell_type": "code",
      "metadata": {
        "id": "KWTeejCgMM8r"
      },
      "source": [
        "from bs4 import BeautifulSoup\n",
        "import requests\n",
        "\n",
        "# распарсили страничку в дерево \n",
        "tree = BeautifulSoup(website_content, 'html.parser')\n",
        "table_with_links = tree.find_all('table', {'class': 'live noBorderTbl'})\n",
        "a_list = table_with_links[0].find_all('a')\n",
        "\n",
        "names_inds = list(np.arange(0, 1060, 2))\n",
        "links_inds = list(np.arange(1, 1060, 2))\n",
        "\n",
        "mapping_names = map(a_list. __getitem__, names_inds)\n",
        "mapping_links = map(a_list. __getitem__, links_inds)\n",
        "names  = list(mapping_names)\n",
        "links = list(mapping_links)\n",
        "\n",
        "parsed_table = pd.DataFrame({'company_name': names, 'link': links})\n",
        "\n",
        "parsed_table['company_name'] = parsed_table['company_name'].apply(lambda x: x.text)\n",
        "parsed_table['link'] = parsed_table['link'].apply(lambda x: str(x['href']))"
      ],
      "execution_count": null,
      "outputs": []
    },
    {
      "cell_type": "code",
      "metadata": {
        "colab": {
          "base_uri": "https://localhost:8080/",
          "height": 407
        },
        "id": "rmho-r0bA4zs",
        "outputId": "1e167751-b946-46b9-d43c-0f17967cd045"
      },
      "source": [
        "parsed_table"
      ],
      "execution_count": null,
      "outputs": [
        {
          "output_type": "execute_result",
          "data": {
            "text/html": [
              "<div>\n",
              "<style scoped>\n",
              "    .dataframe tbody tr th:only-of-type {\n",
              "        vertical-align: middle;\n",
              "    }\n",
              "\n",
              "    .dataframe tbody tr th {\n",
              "        vertical-align: top;\n",
              "    }\n",
              "\n",
              "    .dataframe thead th {\n",
              "        text-align: right;\n",
              "    }\n",
              "</style>\n",
              "<table border=\"1\" class=\"dataframe\">\n",
              "  <thead>\n",
              "    <tr style=\"text-align: right;\">\n",
              "      <th></th>\n",
              "      <th>company_name</th>\n",
              "      <th>link</th>\n",
              "    </tr>\n",
              "  </thead>\n",
              "  <tbody>\n",
              "    <tr>\n",
              "      <th>0</th>\n",
              "      <td>ПАО \"Бест Эффортс Банк\"</td>\n",
              "      <td>https://www.e-disclosure.ru/portal/event.aspx?...</td>\n",
              "    </tr>\n",
              "    <tr>\n",
              "      <th>1</th>\n",
              "      <td>ЗАО Агрофирма \"Нива\"</td>\n",
              "      <td>https://www.e-disclosure.ru/portal/event.aspx?...</td>\n",
              "    </tr>\n",
              "    <tr>\n",
              "      <th>2</th>\n",
              "      <td>ОАО \"ДОРСТРОЙ\"</td>\n",
              "      <td>https://www.e-disclosure.ru/portal/event.aspx?...</td>\n",
              "    </tr>\n",
              "    <tr>\n",
              "      <th>3</th>\n",
              "      <td>ООО КСН «Структурные инвестиции 1»</td>\n",
              "      <td>https://www.e-disclosure.ru/portal/event.aspx?...</td>\n",
              "    </tr>\n",
              "    <tr>\n",
              "      <th>4</th>\n",
              "      <td>ОАО \"КАНАТ\"</td>\n",
              "      <td>https://www.e-disclosure.ru/portal/event.aspx?...</td>\n",
              "    </tr>\n",
              "    <tr>\n",
              "      <th>...</th>\n",
              "      <td>...</td>\n",
              "      <td>...</td>\n",
              "    </tr>\n",
              "    <tr>\n",
              "      <th>525</th>\n",
              "      <td>АО \"ЦГРМ \"ГЕНЕТИКО\"</td>\n",
              "      <td>https://www.e-disclosure.ru/portal/event.aspx?...</td>\n",
              "    </tr>\n",
              "    <tr>\n",
              "      <th>526</th>\n",
              "      <td>ПАО \"ДИОД\"</td>\n",
              "      <td>https://www.e-disclosure.ru/portal/event.aspx?...</td>\n",
              "    </tr>\n",
              "    <tr>\n",
              "      <th>527</th>\n",
              "      <td>ОАО \"ТСК\"</td>\n",
              "      <td>https://www.e-disclosure.ru/portal/event.aspx?...</td>\n",
              "    </tr>\n",
              "    <tr>\n",
              "      <th>528</th>\n",
              "      <td>АО \"Смоленскмебель\"</td>\n",
              "      <td>https://www.e-disclosure.ru/portal/event.aspx?...</td>\n",
              "    </tr>\n",
              "    <tr>\n",
              "      <th>529</th>\n",
              "      <td>ПАО \"ЧИФ Союзинвест\"</td>\n",
              "      <td>https://www.e-disclosure.ru/portal/event.aspx?...</td>\n",
              "    </tr>\n",
              "  </tbody>\n",
              "</table>\n",
              "<p>530 rows × 2 columns</p>\n",
              "</div>"
            ],
            "text/plain": [
              "                           company_name                                               link\n",
              "0               ПАО \"Бест Эффортс Банк\"  https://www.e-disclosure.ru/portal/event.aspx?...\n",
              "1                  ЗАО Агрофирма \"Нива\"  https://www.e-disclosure.ru/portal/event.aspx?...\n",
              "2                        ОАО \"ДОРСТРОЙ\"  https://www.e-disclosure.ru/portal/event.aspx?...\n",
              "3    ООО КСН «Структурные инвестиции 1»  https://www.e-disclosure.ru/portal/event.aspx?...\n",
              "4                           ОАО \"КАНАТ\"  https://www.e-disclosure.ru/portal/event.aspx?...\n",
              "..                                  ...                                                ...\n",
              "525                 АО \"ЦГРМ \"ГЕНЕТИКО\"  https://www.e-disclosure.ru/portal/event.aspx?...\n",
              "526                          ПАО \"ДИОД\"  https://www.e-disclosure.ru/portal/event.aspx?...\n",
              "527                           ОАО \"ТСК\"  https://www.e-disclosure.ru/portal/event.aspx?...\n",
              "528                 АО \"Смоленскмебель\"  https://www.e-disclosure.ru/portal/event.aspx?...\n",
              "529                ПАО \"ЧИФ Союзинвест\"  https://www.e-disclosure.ru/portal/event.aspx?...\n",
              "\n",
              "[530 rows x 2 columns]"
            ]
          },
          "metadata": {
            "tags": []
          },
          "execution_count": 5
        }
      ]
    },
    {
      "cell_type": "code",
      "metadata": {
        "id": "ZbGcnO8JEgVL"
      },
      "source": [
        "def get_text(link):\n",
        "  response = requests.get(link).content\n",
        "  tree = BeautifulSoup(response, 'html.parser')\n",
        "  return tree.find_all('div', {'id': 'cont_wrap'})[0].find_all('div')[1]"
      ],
      "execution_count": null,
      "outputs": []
    },
    {
      "cell_type": "code",
      "metadata": {
        "id": "DzVZ1ZEBCxWD",
        "colab": {
          "base_uri": "https://localhost:8080/",
          "height": 452
        },
        "outputId": "d821a83b-b0f1-4d99-c972-126346459836"
      },
      "source": [
        "parsed_table['content'] = parsed_table['link'].apply(lambda x: get_text(x))"
      ],
      "execution_count": null,
      "outputs": [
        {
          "output_type": "error",
          "ename": "KeyboardInterrupt",
          "evalue": "ignored",
          "traceback": [
            "\u001b[0;31m---------------------------------------------------------------------------\u001b[0m",
            "\u001b[0;31mTypeError\u001b[0m                                 Traceback (most recent call last)",
            "\u001b[0;32m/usr/local/lib/python3.7/dist-packages/urllib3/connectionpool.py\u001b[0m in \u001b[0;36m_make_request\u001b[0;34m(self, conn, method, url, timeout, chunked, **httplib_request_kw)\u001b[0m\n\u001b[1;32m    376\u001b[0m             \u001b[0;32mtry\u001b[0m\u001b[0;34m:\u001b[0m  \u001b[0;31m# Python 2.7, use buffering of HTTP responses\u001b[0m\u001b[0;34m\u001b[0m\u001b[0;34m\u001b[0m\u001b[0m\n\u001b[0;32m--> 377\u001b[0;31m                 \u001b[0mhttplib_response\u001b[0m \u001b[0;34m=\u001b[0m \u001b[0mconn\u001b[0m\u001b[0;34m.\u001b[0m\u001b[0mgetresponse\u001b[0m\u001b[0;34m(\u001b[0m\u001b[0mbuffering\u001b[0m\u001b[0;34m=\u001b[0m\u001b[0;32mTrue\u001b[0m\u001b[0;34m)\u001b[0m\u001b[0;34m\u001b[0m\u001b[0;34m\u001b[0m\u001b[0m\n\u001b[0m\u001b[1;32m    378\u001b[0m             \u001b[0;32mexcept\u001b[0m \u001b[0mTypeError\u001b[0m\u001b[0;34m:\u001b[0m  \u001b[0;31m# Python 3\u001b[0m\u001b[0;34m\u001b[0m\u001b[0;34m\u001b[0m\u001b[0m\n",
            "\u001b[0;31mTypeError\u001b[0m: getresponse() got an unexpected keyword argument 'buffering'",
            "\nDuring handling of the above exception, another exception occurred:\n",
            "\u001b[0;31mKeyboardInterrupt\u001b[0m                         Traceback (most recent call last)",
            "\u001b[0;32m<ipython-input-7-bd6d09797746>\u001b[0m in \u001b[0;36m<module>\u001b[0;34m()\u001b[0m\n\u001b[0;32m----> 1\u001b[0;31m \u001b[0mparsed_table\u001b[0m\u001b[0;34m[\u001b[0m\u001b[0;34m'content'\u001b[0m\u001b[0;34m]\u001b[0m \u001b[0;34m=\u001b[0m \u001b[0mparsed_table\u001b[0m\u001b[0;34m[\u001b[0m\u001b[0;34m'link'\u001b[0m\u001b[0;34m]\u001b[0m\u001b[0;34m.\u001b[0m\u001b[0mapply\u001b[0m\u001b[0;34m(\u001b[0m\u001b[0;32mlambda\u001b[0m \u001b[0mx\u001b[0m\u001b[0;34m:\u001b[0m \u001b[0mget_text\u001b[0m\u001b[0;34m(\u001b[0m\u001b[0mx\u001b[0m\u001b[0;34m)\u001b[0m\u001b[0;34m)\u001b[0m\u001b[0;34m\u001b[0m\u001b[0;34m\u001b[0m\u001b[0m\n\u001b[0m",
            "\u001b[0;32m/usr/local/lib/python3.7/dist-packages/pandas/core/series.py\u001b[0m in \u001b[0;36mapply\u001b[0;34m(self, func, convert_dtype, args, **kwds)\u001b[0m\n\u001b[1;32m   4211\u001b[0m             \u001b[0;32melse\u001b[0m\u001b[0;34m:\u001b[0m\u001b[0;34m\u001b[0m\u001b[0;34m\u001b[0m\u001b[0m\n\u001b[1;32m   4212\u001b[0m                 \u001b[0mvalues\u001b[0m \u001b[0;34m=\u001b[0m \u001b[0mself\u001b[0m\u001b[0;34m.\u001b[0m\u001b[0mastype\u001b[0m\u001b[0;34m(\u001b[0m\u001b[0mobject\u001b[0m\u001b[0;34m)\u001b[0m\u001b[0;34m.\u001b[0m\u001b[0m_values\u001b[0m\u001b[0;34m\u001b[0m\u001b[0;34m\u001b[0m\u001b[0m\n\u001b[0;32m-> 4213\u001b[0;31m                 \u001b[0mmapped\u001b[0m \u001b[0;34m=\u001b[0m \u001b[0mlib\u001b[0m\u001b[0;34m.\u001b[0m\u001b[0mmap_infer\u001b[0m\u001b[0;34m(\u001b[0m\u001b[0mvalues\u001b[0m\u001b[0;34m,\u001b[0m \u001b[0mf\u001b[0m\u001b[0;34m,\u001b[0m \u001b[0mconvert\u001b[0m\u001b[0;34m=\u001b[0m\u001b[0mconvert_dtype\u001b[0m\u001b[0;34m)\u001b[0m\u001b[0;34m\u001b[0m\u001b[0;34m\u001b[0m\u001b[0m\n\u001b[0m\u001b[1;32m   4214\u001b[0m \u001b[0;34m\u001b[0m\u001b[0m\n\u001b[1;32m   4215\u001b[0m         \u001b[0;32mif\u001b[0m \u001b[0mlen\u001b[0m\u001b[0;34m(\u001b[0m\u001b[0mmapped\u001b[0m\u001b[0;34m)\u001b[0m \u001b[0;32mand\u001b[0m \u001b[0misinstance\u001b[0m\u001b[0;34m(\u001b[0m\u001b[0mmapped\u001b[0m\u001b[0;34m[\u001b[0m\u001b[0;36m0\u001b[0m\u001b[0;34m]\u001b[0m\u001b[0;34m,\u001b[0m \u001b[0mSeries\u001b[0m\u001b[0;34m)\u001b[0m\u001b[0;34m:\u001b[0m\u001b[0;34m\u001b[0m\u001b[0;34m\u001b[0m\u001b[0m\n",
            "\u001b[0;32mpandas/_libs/lib.pyx\u001b[0m in \u001b[0;36mpandas._libs.lib.map_infer\u001b[0;34m()\u001b[0m\n",
            "\u001b[0;32m<ipython-input-7-bd6d09797746>\u001b[0m in \u001b[0;36m<lambda>\u001b[0;34m(x)\u001b[0m\n\u001b[0;32m----> 1\u001b[0;31m \u001b[0mparsed_table\u001b[0m\u001b[0;34m[\u001b[0m\u001b[0;34m'content'\u001b[0m\u001b[0;34m]\u001b[0m \u001b[0;34m=\u001b[0m \u001b[0mparsed_table\u001b[0m\u001b[0;34m[\u001b[0m\u001b[0;34m'link'\u001b[0m\u001b[0;34m]\u001b[0m\u001b[0;34m.\u001b[0m\u001b[0mapply\u001b[0m\u001b[0;34m(\u001b[0m\u001b[0;32mlambda\u001b[0m \u001b[0mx\u001b[0m\u001b[0;34m:\u001b[0m \u001b[0mget_text\u001b[0m\u001b[0;34m(\u001b[0m\u001b[0mx\u001b[0m\u001b[0;34m)\u001b[0m\u001b[0;34m)\u001b[0m\u001b[0;34m\u001b[0m\u001b[0;34m\u001b[0m\u001b[0m\n\u001b[0m",
            "\u001b[0;32m<ipython-input-6-8595707aefec>\u001b[0m in \u001b[0;36mget_text\u001b[0;34m(link)\u001b[0m\n\u001b[1;32m      1\u001b[0m \u001b[0;32mdef\u001b[0m \u001b[0mget_text\u001b[0m\u001b[0;34m(\u001b[0m\u001b[0mlink\u001b[0m\u001b[0;34m)\u001b[0m\u001b[0;34m:\u001b[0m\u001b[0;34m\u001b[0m\u001b[0;34m\u001b[0m\u001b[0m\n\u001b[0;32m----> 2\u001b[0;31m   \u001b[0mresponse\u001b[0m \u001b[0;34m=\u001b[0m \u001b[0mrequests\u001b[0m\u001b[0;34m.\u001b[0m\u001b[0mget\u001b[0m\u001b[0;34m(\u001b[0m\u001b[0mlink\u001b[0m\u001b[0;34m)\u001b[0m\u001b[0;34m.\u001b[0m\u001b[0mcontent\u001b[0m\u001b[0;34m\u001b[0m\u001b[0;34m\u001b[0m\u001b[0m\n\u001b[0m\u001b[1;32m      3\u001b[0m   \u001b[0mtree\u001b[0m \u001b[0;34m=\u001b[0m \u001b[0mBeautifulSoup\u001b[0m\u001b[0;34m(\u001b[0m\u001b[0mresponse\u001b[0m\u001b[0;34m,\u001b[0m \u001b[0;34m'html.parser'\u001b[0m\u001b[0;34m)\u001b[0m\u001b[0;34m\u001b[0m\u001b[0;34m\u001b[0m\u001b[0m\n\u001b[1;32m      4\u001b[0m   \u001b[0;32mreturn\u001b[0m \u001b[0mtree\u001b[0m\u001b[0;34m.\u001b[0m\u001b[0mfind_all\u001b[0m\u001b[0;34m(\u001b[0m\u001b[0;34m'div'\u001b[0m\u001b[0;34m,\u001b[0m \u001b[0;34m{\u001b[0m\u001b[0;34m'id'\u001b[0m\u001b[0;34m:\u001b[0m \u001b[0;34m'cont_wrap'\u001b[0m\u001b[0;34m}\u001b[0m\u001b[0;34m)\u001b[0m\u001b[0;34m[\u001b[0m\u001b[0;36m0\u001b[0m\u001b[0;34m]\u001b[0m\u001b[0;34m.\u001b[0m\u001b[0mfind_all\u001b[0m\u001b[0;34m(\u001b[0m\u001b[0;34m'div'\u001b[0m\u001b[0;34m)\u001b[0m\u001b[0;34m[\u001b[0m\u001b[0;36m1\u001b[0m\u001b[0;34m]\u001b[0m\u001b[0;34m\u001b[0m\u001b[0;34m\u001b[0m\u001b[0m\n",
            "\u001b[0;32m/usr/local/lib/python3.7/dist-packages/requests/api.py\u001b[0m in \u001b[0;36mget\u001b[0;34m(url, params, **kwargs)\u001b[0m\n\u001b[1;32m     74\u001b[0m \u001b[0;34m\u001b[0m\u001b[0m\n\u001b[1;32m     75\u001b[0m     \u001b[0mkwargs\u001b[0m\u001b[0;34m.\u001b[0m\u001b[0msetdefault\u001b[0m\u001b[0;34m(\u001b[0m\u001b[0;34m'allow_redirects'\u001b[0m\u001b[0;34m,\u001b[0m \u001b[0;32mTrue\u001b[0m\u001b[0;34m)\u001b[0m\u001b[0;34m\u001b[0m\u001b[0;34m\u001b[0m\u001b[0m\n\u001b[0;32m---> 76\u001b[0;31m     \u001b[0;32mreturn\u001b[0m \u001b[0mrequest\u001b[0m\u001b[0;34m(\u001b[0m\u001b[0;34m'get'\u001b[0m\u001b[0;34m,\u001b[0m \u001b[0murl\u001b[0m\u001b[0;34m,\u001b[0m \u001b[0mparams\u001b[0m\u001b[0;34m=\u001b[0m\u001b[0mparams\u001b[0m\u001b[0;34m,\u001b[0m \u001b[0;34m**\u001b[0m\u001b[0mkwargs\u001b[0m\u001b[0;34m)\u001b[0m\u001b[0;34m\u001b[0m\u001b[0;34m\u001b[0m\u001b[0m\n\u001b[0m\u001b[1;32m     77\u001b[0m \u001b[0;34m\u001b[0m\u001b[0m\n\u001b[1;32m     78\u001b[0m \u001b[0;34m\u001b[0m\u001b[0m\n",
            "\u001b[0;32m/usr/local/lib/python3.7/dist-packages/requests/api.py\u001b[0m in \u001b[0;36mrequest\u001b[0;34m(method, url, **kwargs)\u001b[0m\n\u001b[1;32m     59\u001b[0m     \u001b[0;31m# cases, and look like a memory leak in others.\u001b[0m\u001b[0;34m\u001b[0m\u001b[0;34m\u001b[0m\u001b[0;34m\u001b[0m\u001b[0m\n\u001b[1;32m     60\u001b[0m     \u001b[0;32mwith\u001b[0m \u001b[0msessions\u001b[0m\u001b[0;34m.\u001b[0m\u001b[0mSession\u001b[0m\u001b[0;34m(\u001b[0m\u001b[0;34m)\u001b[0m \u001b[0;32mas\u001b[0m \u001b[0msession\u001b[0m\u001b[0;34m:\u001b[0m\u001b[0;34m\u001b[0m\u001b[0;34m\u001b[0m\u001b[0m\n\u001b[0;32m---> 61\u001b[0;31m         \u001b[0;32mreturn\u001b[0m \u001b[0msession\u001b[0m\u001b[0;34m.\u001b[0m\u001b[0mrequest\u001b[0m\u001b[0;34m(\u001b[0m\u001b[0mmethod\u001b[0m\u001b[0;34m=\u001b[0m\u001b[0mmethod\u001b[0m\u001b[0;34m,\u001b[0m \u001b[0murl\u001b[0m\u001b[0;34m=\u001b[0m\u001b[0murl\u001b[0m\u001b[0;34m,\u001b[0m \u001b[0;34m**\u001b[0m\u001b[0mkwargs\u001b[0m\u001b[0;34m)\u001b[0m\u001b[0;34m\u001b[0m\u001b[0;34m\u001b[0m\u001b[0m\n\u001b[0m\u001b[1;32m     62\u001b[0m \u001b[0;34m\u001b[0m\u001b[0m\n\u001b[1;32m     63\u001b[0m \u001b[0;34m\u001b[0m\u001b[0m\n",
            "\u001b[0;32m/usr/local/lib/python3.7/dist-packages/requests/sessions.py\u001b[0m in \u001b[0;36mrequest\u001b[0;34m(self, method, url, params, data, headers, cookies, files, auth, timeout, allow_redirects, proxies, hooks, stream, verify, cert, json)\u001b[0m\n\u001b[1;32m    528\u001b[0m         }\n\u001b[1;32m    529\u001b[0m         \u001b[0msend_kwargs\u001b[0m\u001b[0;34m.\u001b[0m\u001b[0mupdate\u001b[0m\u001b[0;34m(\u001b[0m\u001b[0msettings\u001b[0m\u001b[0;34m)\u001b[0m\u001b[0;34m\u001b[0m\u001b[0;34m\u001b[0m\u001b[0m\n\u001b[0;32m--> 530\u001b[0;31m         \u001b[0mresp\u001b[0m \u001b[0;34m=\u001b[0m \u001b[0mself\u001b[0m\u001b[0;34m.\u001b[0m\u001b[0msend\u001b[0m\u001b[0;34m(\u001b[0m\u001b[0mprep\u001b[0m\u001b[0;34m,\u001b[0m \u001b[0;34m**\u001b[0m\u001b[0msend_kwargs\u001b[0m\u001b[0;34m)\u001b[0m\u001b[0;34m\u001b[0m\u001b[0;34m\u001b[0m\u001b[0m\n\u001b[0m\u001b[1;32m    531\u001b[0m \u001b[0;34m\u001b[0m\u001b[0m\n\u001b[1;32m    532\u001b[0m         \u001b[0;32mreturn\u001b[0m \u001b[0mresp\u001b[0m\u001b[0;34m\u001b[0m\u001b[0;34m\u001b[0m\u001b[0m\n",
            "\u001b[0;32m/usr/local/lib/python3.7/dist-packages/requests/sessions.py\u001b[0m in \u001b[0;36msend\u001b[0;34m(self, request, **kwargs)\u001b[0m\n\u001b[1;32m    663\u001b[0m \u001b[0;34m\u001b[0m\u001b[0m\n\u001b[1;32m    664\u001b[0m         \u001b[0;31m# Resolve redirects if allowed.\u001b[0m\u001b[0;34m\u001b[0m\u001b[0;34m\u001b[0m\u001b[0;34m\u001b[0m\u001b[0m\n\u001b[0;32m--> 665\u001b[0;31m         \u001b[0mhistory\u001b[0m \u001b[0;34m=\u001b[0m \u001b[0;34m[\u001b[0m\u001b[0mresp\u001b[0m \u001b[0;32mfor\u001b[0m \u001b[0mresp\u001b[0m \u001b[0;32min\u001b[0m \u001b[0mgen\u001b[0m\u001b[0;34m]\u001b[0m \u001b[0;32mif\u001b[0m \u001b[0mallow_redirects\u001b[0m \u001b[0;32melse\u001b[0m \u001b[0;34m[\u001b[0m\u001b[0;34m]\u001b[0m\u001b[0;34m\u001b[0m\u001b[0;34m\u001b[0m\u001b[0m\n\u001b[0m\u001b[1;32m    666\u001b[0m \u001b[0;34m\u001b[0m\u001b[0m\n\u001b[1;32m    667\u001b[0m         \u001b[0;31m# Shuffle things around if there's history.\u001b[0m\u001b[0;34m\u001b[0m\u001b[0;34m\u001b[0m\u001b[0;34m\u001b[0m\u001b[0m\n",
            "\u001b[0;32m/usr/local/lib/python3.7/dist-packages/requests/sessions.py\u001b[0m in \u001b[0;36m<listcomp>\u001b[0;34m(.0)\u001b[0m\n\u001b[1;32m    663\u001b[0m \u001b[0;34m\u001b[0m\u001b[0m\n\u001b[1;32m    664\u001b[0m         \u001b[0;31m# Resolve redirects if allowed.\u001b[0m\u001b[0;34m\u001b[0m\u001b[0;34m\u001b[0m\u001b[0;34m\u001b[0m\u001b[0m\n\u001b[0;32m--> 665\u001b[0;31m         \u001b[0mhistory\u001b[0m \u001b[0;34m=\u001b[0m \u001b[0;34m[\u001b[0m\u001b[0mresp\u001b[0m \u001b[0;32mfor\u001b[0m \u001b[0mresp\u001b[0m \u001b[0;32min\u001b[0m \u001b[0mgen\u001b[0m\u001b[0;34m]\u001b[0m \u001b[0;32mif\u001b[0m \u001b[0mallow_redirects\u001b[0m \u001b[0;32melse\u001b[0m \u001b[0;34m[\u001b[0m\u001b[0;34m]\u001b[0m\u001b[0;34m\u001b[0m\u001b[0;34m\u001b[0m\u001b[0m\n\u001b[0m\u001b[1;32m    666\u001b[0m \u001b[0;34m\u001b[0m\u001b[0m\n\u001b[1;32m    667\u001b[0m         \u001b[0;31m# Shuffle things around if there's history.\u001b[0m\u001b[0;34m\u001b[0m\u001b[0;34m\u001b[0m\u001b[0;34m\u001b[0m\u001b[0m\n",
            "\u001b[0;32m/usr/local/lib/python3.7/dist-packages/requests/sessions.py\u001b[0m in \u001b[0;36mresolve_redirects\u001b[0;34m(self, resp, req, stream, timeout, verify, cert, proxies, yield_requests, **adapter_kwargs)\u001b[0m\n\u001b[1;32m    243\u001b[0m                     \u001b[0mproxies\u001b[0m\u001b[0;34m=\u001b[0m\u001b[0mproxies\u001b[0m\u001b[0;34m,\u001b[0m\u001b[0;34m\u001b[0m\u001b[0;34m\u001b[0m\u001b[0m\n\u001b[1;32m    244\u001b[0m                     \u001b[0mallow_redirects\u001b[0m\u001b[0;34m=\u001b[0m\u001b[0;32mFalse\u001b[0m\u001b[0;34m,\u001b[0m\u001b[0;34m\u001b[0m\u001b[0;34m\u001b[0m\u001b[0m\n\u001b[0;32m--> 245\u001b[0;31m                     \u001b[0;34m**\u001b[0m\u001b[0madapter_kwargs\u001b[0m\u001b[0;34m\u001b[0m\u001b[0;34m\u001b[0m\u001b[0m\n\u001b[0m\u001b[1;32m    246\u001b[0m                 )\n\u001b[1;32m    247\u001b[0m \u001b[0;34m\u001b[0m\u001b[0m\n",
            "\u001b[0;32m/usr/local/lib/python3.7/dist-packages/requests/sessions.py\u001b[0m in \u001b[0;36msend\u001b[0;34m(self, request, **kwargs)\u001b[0m\n\u001b[1;32m    641\u001b[0m \u001b[0;34m\u001b[0m\u001b[0m\n\u001b[1;32m    642\u001b[0m         \u001b[0;31m# Send the request\u001b[0m\u001b[0;34m\u001b[0m\u001b[0;34m\u001b[0m\u001b[0;34m\u001b[0m\u001b[0m\n\u001b[0;32m--> 643\u001b[0;31m         \u001b[0mr\u001b[0m \u001b[0;34m=\u001b[0m \u001b[0madapter\u001b[0m\u001b[0;34m.\u001b[0m\u001b[0msend\u001b[0m\u001b[0;34m(\u001b[0m\u001b[0mrequest\u001b[0m\u001b[0;34m,\u001b[0m \u001b[0;34m**\u001b[0m\u001b[0mkwargs\u001b[0m\u001b[0;34m)\u001b[0m\u001b[0;34m\u001b[0m\u001b[0;34m\u001b[0m\u001b[0m\n\u001b[0m\u001b[1;32m    644\u001b[0m \u001b[0;34m\u001b[0m\u001b[0m\n\u001b[1;32m    645\u001b[0m         \u001b[0;31m# Total elapsed time of the request (approximately)\u001b[0m\u001b[0;34m\u001b[0m\u001b[0;34m\u001b[0m\u001b[0;34m\u001b[0m\u001b[0m\n",
            "\u001b[0;32m/usr/local/lib/python3.7/dist-packages/requests/adapters.py\u001b[0m in \u001b[0;36msend\u001b[0;34m(self, request, stream, timeout, verify, cert, proxies)\u001b[0m\n\u001b[1;32m    447\u001b[0m                     \u001b[0mdecode_content\u001b[0m\u001b[0;34m=\u001b[0m\u001b[0;32mFalse\u001b[0m\u001b[0;34m,\u001b[0m\u001b[0;34m\u001b[0m\u001b[0;34m\u001b[0m\u001b[0m\n\u001b[1;32m    448\u001b[0m                     \u001b[0mretries\u001b[0m\u001b[0;34m=\u001b[0m\u001b[0mself\u001b[0m\u001b[0;34m.\u001b[0m\u001b[0mmax_retries\u001b[0m\u001b[0;34m,\u001b[0m\u001b[0;34m\u001b[0m\u001b[0;34m\u001b[0m\u001b[0m\n\u001b[0;32m--> 449\u001b[0;31m                     \u001b[0mtimeout\u001b[0m\u001b[0;34m=\u001b[0m\u001b[0mtimeout\u001b[0m\u001b[0;34m\u001b[0m\u001b[0;34m\u001b[0m\u001b[0m\n\u001b[0m\u001b[1;32m    450\u001b[0m                 )\n\u001b[1;32m    451\u001b[0m \u001b[0;34m\u001b[0m\u001b[0m\n",
            "\u001b[0;32m/usr/local/lib/python3.7/dist-packages/urllib3/connectionpool.py\u001b[0m in \u001b[0;36murlopen\u001b[0;34m(self, method, url, body, headers, retries, redirect, assert_same_host, timeout, pool_timeout, release_conn, chunked, body_pos, **response_kw)\u001b[0m\n\u001b[1;32m    598\u001b[0m                                                   \u001b[0mtimeout\u001b[0m\u001b[0;34m=\u001b[0m\u001b[0mtimeout_obj\u001b[0m\u001b[0;34m,\u001b[0m\u001b[0;34m\u001b[0m\u001b[0;34m\u001b[0m\u001b[0m\n\u001b[1;32m    599\u001b[0m                                                   \u001b[0mbody\u001b[0m\u001b[0;34m=\u001b[0m\u001b[0mbody\u001b[0m\u001b[0;34m,\u001b[0m \u001b[0mheaders\u001b[0m\u001b[0;34m=\u001b[0m\u001b[0mheaders\u001b[0m\u001b[0;34m,\u001b[0m\u001b[0;34m\u001b[0m\u001b[0;34m\u001b[0m\u001b[0m\n\u001b[0;32m--> 600\u001b[0;31m                                                   chunked=chunked)\n\u001b[0m\u001b[1;32m    601\u001b[0m \u001b[0;34m\u001b[0m\u001b[0m\n\u001b[1;32m    602\u001b[0m             \u001b[0;31m# If we're going to release the connection in ``finally:``, then\u001b[0m\u001b[0;34m\u001b[0m\u001b[0;34m\u001b[0m\u001b[0;34m\u001b[0m\u001b[0m\n",
            "\u001b[0;32m/usr/local/lib/python3.7/dist-packages/urllib3/connectionpool.py\u001b[0m in \u001b[0;36m_make_request\u001b[0;34m(self, conn, method, url, timeout, chunked, **httplib_request_kw)\u001b[0m\n\u001b[1;32m    378\u001b[0m             \u001b[0;32mexcept\u001b[0m \u001b[0mTypeError\u001b[0m\u001b[0;34m:\u001b[0m  \u001b[0;31m# Python 3\u001b[0m\u001b[0;34m\u001b[0m\u001b[0;34m\u001b[0m\u001b[0m\n\u001b[1;32m    379\u001b[0m                 \u001b[0;32mtry\u001b[0m\u001b[0;34m:\u001b[0m\u001b[0;34m\u001b[0m\u001b[0;34m\u001b[0m\u001b[0m\n\u001b[0;32m--> 380\u001b[0;31m                     \u001b[0mhttplib_response\u001b[0m \u001b[0;34m=\u001b[0m \u001b[0mconn\u001b[0m\u001b[0;34m.\u001b[0m\u001b[0mgetresponse\u001b[0m\u001b[0;34m(\u001b[0m\u001b[0;34m)\u001b[0m\u001b[0;34m\u001b[0m\u001b[0;34m\u001b[0m\u001b[0m\n\u001b[0m\u001b[1;32m    381\u001b[0m                 \u001b[0;32mexcept\u001b[0m \u001b[0mException\u001b[0m \u001b[0;32mas\u001b[0m \u001b[0me\u001b[0m\u001b[0;34m:\u001b[0m\u001b[0;34m\u001b[0m\u001b[0;34m\u001b[0m\u001b[0m\n\u001b[1;32m    382\u001b[0m                     \u001b[0;31m# Remove the TypeError from the exception chain in Python 3;\u001b[0m\u001b[0;34m\u001b[0m\u001b[0;34m\u001b[0m\u001b[0;34m\u001b[0m\u001b[0m\n",
            "\u001b[0;32m/usr/lib/python3.7/http/client.py\u001b[0m in \u001b[0;36mgetresponse\u001b[0;34m(self)\u001b[0m\n\u001b[1;32m   1367\u001b[0m         \u001b[0;32mtry\u001b[0m\u001b[0;34m:\u001b[0m\u001b[0;34m\u001b[0m\u001b[0;34m\u001b[0m\u001b[0m\n\u001b[1;32m   1368\u001b[0m             \u001b[0;32mtry\u001b[0m\u001b[0;34m:\u001b[0m\u001b[0;34m\u001b[0m\u001b[0;34m\u001b[0m\u001b[0m\n\u001b[0;32m-> 1369\u001b[0;31m                 \u001b[0mresponse\u001b[0m\u001b[0;34m.\u001b[0m\u001b[0mbegin\u001b[0m\u001b[0;34m(\u001b[0m\u001b[0;34m)\u001b[0m\u001b[0;34m\u001b[0m\u001b[0;34m\u001b[0m\u001b[0m\n\u001b[0m\u001b[1;32m   1370\u001b[0m             \u001b[0;32mexcept\u001b[0m \u001b[0mConnectionError\u001b[0m\u001b[0;34m:\u001b[0m\u001b[0;34m\u001b[0m\u001b[0;34m\u001b[0m\u001b[0m\n\u001b[1;32m   1371\u001b[0m                 \u001b[0mself\u001b[0m\u001b[0;34m.\u001b[0m\u001b[0mclose\u001b[0m\u001b[0;34m(\u001b[0m\u001b[0;34m)\u001b[0m\u001b[0;34m\u001b[0m\u001b[0;34m\u001b[0m\u001b[0m\n",
            "\u001b[0;32m/usr/lib/python3.7/http/client.py\u001b[0m in \u001b[0;36mbegin\u001b[0;34m(self)\u001b[0m\n\u001b[1;32m    308\u001b[0m         \u001b[0;31m# read until we get a non-100 response\u001b[0m\u001b[0;34m\u001b[0m\u001b[0;34m\u001b[0m\u001b[0;34m\u001b[0m\u001b[0m\n\u001b[1;32m    309\u001b[0m         \u001b[0;32mwhile\u001b[0m \u001b[0;32mTrue\u001b[0m\u001b[0;34m:\u001b[0m\u001b[0;34m\u001b[0m\u001b[0;34m\u001b[0m\u001b[0m\n\u001b[0;32m--> 310\u001b[0;31m             \u001b[0mversion\u001b[0m\u001b[0;34m,\u001b[0m \u001b[0mstatus\u001b[0m\u001b[0;34m,\u001b[0m \u001b[0mreason\u001b[0m \u001b[0;34m=\u001b[0m \u001b[0mself\u001b[0m\u001b[0;34m.\u001b[0m\u001b[0m_read_status\u001b[0m\u001b[0;34m(\u001b[0m\u001b[0;34m)\u001b[0m\u001b[0;34m\u001b[0m\u001b[0;34m\u001b[0m\u001b[0m\n\u001b[0m\u001b[1;32m    311\u001b[0m             \u001b[0;32mif\u001b[0m \u001b[0mstatus\u001b[0m \u001b[0;34m!=\u001b[0m \u001b[0mCONTINUE\u001b[0m\u001b[0;34m:\u001b[0m\u001b[0;34m\u001b[0m\u001b[0;34m\u001b[0m\u001b[0m\n\u001b[1;32m    312\u001b[0m                 \u001b[0;32mbreak\u001b[0m\u001b[0;34m\u001b[0m\u001b[0;34m\u001b[0m\u001b[0m\n",
            "\u001b[0;32m/usr/lib/python3.7/http/client.py\u001b[0m in \u001b[0;36m_read_status\u001b[0;34m(self)\u001b[0m\n\u001b[1;32m    269\u001b[0m \u001b[0;34m\u001b[0m\u001b[0m\n\u001b[1;32m    270\u001b[0m     \u001b[0;32mdef\u001b[0m \u001b[0m_read_status\u001b[0m\u001b[0;34m(\u001b[0m\u001b[0mself\u001b[0m\u001b[0;34m)\u001b[0m\u001b[0;34m:\u001b[0m\u001b[0;34m\u001b[0m\u001b[0;34m\u001b[0m\u001b[0m\n\u001b[0;32m--> 271\u001b[0;31m         \u001b[0mline\u001b[0m \u001b[0;34m=\u001b[0m \u001b[0mstr\u001b[0m\u001b[0;34m(\u001b[0m\u001b[0mself\u001b[0m\u001b[0;34m.\u001b[0m\u001b[0mfp\u001b[0m\u001b[0;34m.\u001b[0m\u001b[0mreadline\u001b[0m\u001b[0;34m(\u001b[0m\u001b[0m_MAXLINE\u001b[0m \u001b[0;34m+\u001b[0m \u001b[0;36m1\u001b[0m\u001b[0;34m)\u001b[0m\u001b[0;34m,\u001b[0m \u001b[0;34m\"iso-8859-1\"\u001b[0m\u001b[0;34m)\u001b[0m\u001b[0;34m\u001b[0m\u001b[0;34m\u001b[0m\u001b[0m\n\u001b[0m\u001b[1;32m    272\u001b[0m         \u001b[0;32mif\u001b[0m \u001b[0mlen\u001b[0m\u001b[0;34m(\u001b[0m\u001b[0mline\u001b[0m\u001b[0;34m)\u001b[0m \u001b[0;34m>\u001b[0m \u001b[0m_MAXLINE\u001b[0m\u001b[0;34m:\u001b[0m\u001b[0;34m\u001b[0m\u001b[0;34m\u001b[0m\u001b[0m\n\u001b[1;32m    273\u001b[0m             \u001b[0;32mraise\u001b[0m \u001b[0mLineTooLong\u001b[0m\u001b[0;34m(\u001b[0m\u001b[0;34m\"status line\"\u001b[0m\u001b[0;34m)\u001b[0m\u001b[0;34m\u001b[0m\u001b[0;34m\u001b[0m\u001b[0m\n",
            "\u001b[0;32m/usr/lib/python3.7/socket.py\u001b[0m in \u001b[0;36mreadinto\u001b[0;34m(self, b)\u001b[0m\n\u001b[1;32m    587\u001b[0m         \u001b[0;32mwhile\u001b[0m \u001b[0;32mTrue\u001b[0m\u001b[0;34m:\u001b[0m\u001b[0;34m\u001b[0m\u001b[0;34m\u001b[0m\u001b[0m\n\u001b[1;32m    588\u001b[0m             \u001b[0;32mtry\u001b[0m\u001b[0;34m:\u001b[0m\u001b[0;34m\u001b[0m\u001b[0;34m\u001b[0m\u001b[0m\n\u001b[0;32m--> 589\u001b[0;31m                 \u001b[0;32mreturn\u001b[0m \u001b[0mself\u001b[0m\u001b[0;34m.\u001b[0m\u001b[0m_sock\u001b[0m\u001b[0;34m.\u001b[0m\u001b[0mrecv_into\u001b[0m\u001b[0;34m(\u001b[0m\u001b[0mb\u001b[0m\u001b[0;34m)\u001b[0m\u001b[0;34m\u001b[0m\u001b[0;34m\u001b[0m\u001b[0m\n\u001b[0m\u001b[1;32m    590\u001b[0m             \u001b[0;32mexcept\u001b[0m \u001b[0mtimeout\u001b[0m\u001b[0;34m:\u001b[0m\u001b[0;34m\u001b[0m\u001b[0;34m\u001b[0m\u001b[0m\n\u001b[1;32m    591\u001b[0m                 \u001b[0mself\u001b[0m\u001b[0;34m.\u001b[0m\u001b[0m_timeout_occurred\u001b[0m \u001b[0;34m=\u001b[0m \u001b[0;32mTrue\u001b[0m\u001b[0;34m\u001b[0m\u001b[0;34m\u001b[0m\u001b[0m\n",
            "\u001b[0;32m/usr/lib/python3.7/ssl.py\u001b[0m in \u001b[0;36mrecv_into\u001b[0;34m(self, buffer, nbytes, flags)\u001b[0m\n\u001b[1;32m   1069\u001b[0m                   \u001b[0;34m\"non-zero flags not allowed in calls to recv_into() on %s\"\u001b[0m \u001b[0;34m%\u001b[0m\u001b[0;34m\u001b[0m\u001b[0;34m\u001b[0m\u001b[0m\n\u001b[1;32m   1070\u001b[0m                   self.__class__)\n\u001b[0;32m-> 1071\u001b[0;31m             \u001b[0;32mreturn\u001b[0m \u001b[0mself\u001b[0m\u001b[0;34m.\u001b[0m\u001b[0mread\u001b[0m\u001b[0;34m(\u001b[0m\u001b[0mnbytes\u001b[0m\u001b[0;34m,\u001b[0m \u001b[0mbuffer\u001b[0m\u001b[0;34m)\u001b[0m\u001b[0;34m\u001b[0m\u001b[0;34m\u001b[0m\u001b[0m\n\u001b[0m\u001b[1;32m   1072\u001b[0m         \u001b[0;32melse\u001b[0m\u001b[0;34m:\u001b[0m\u001b[0;34m\u001b[0m\u001b[0;34m\u001b[0m\u001b[0m\n\u001b[1;32m   1073\u001b[0m             \u001b[0;32mreturn\u001b[0m \u001b[0msuper\u001b[0m\u001b[0;34m(\u001b[0m\u001b[0;34m)\u001b[0m\u001b[0;34m.\u001b[0m\u001b[0mrecv_into\u001b[0m\u001b[0;34m(\u001b[0m\u001b[0mbuffer\u001b[0m\u001b[0;34m,\u001b[0m \u001b[0mnbytes\u001b[0m\u001b[0;34m,\u001b[0m \u001b[0mflags\u001b[0m\u001b[0;34m)\u001b[0m\u001b[0;34m\u001b[0m\u001b[0;34m\u001b[0m\u001b[0m\n",
            "\u001b[0;32m/usr/lib/python3.7/ssl.py\u001b[0m in \u001b[0;36mread\u001b[0;34m(self, len, buffer)\u001b[0m\n\u001b[1;32m    927\u001b[0m         \u001b[0;32mtry\u001b[0m\u001b[0;34m:\u001b[0m\u001b[0;34m\u001b[0m\u001b[0;34m\u001b[0m\u001b[0m\n\u001b[1;32m    928\u001b[0m             \u001b[0;32mif\u001b[0m \u001b[0mbuffer\u001b[0m \u001b[0;32mis\u001b[0m \u001b[0;32mnot\u001b[0m \u001b[0;32mNone\u001b[0m\u001b[0;34m:\u001b[0m\u001b[0;34m\u001b[0m\u001b[0;34m\u001b[0m\u001b[0m\n\u001b[0;32m--> 929\u001b[0;31m                 \u001b[0;32mreturn\u001b[0m \u001b[0mself\u001b[0m\u001b[0;34m.\u001b[0m\u001b[0m_sslobj\u001b[0m\u001b[0;34m.\u001b[0m\u001b[0mread\u001b[0m\u001b[0;34m(\u001b[0m\u001b[0mlen\u001b[0m\u001b[0;34m,\u001b[0m \u001b[0mbuffer\u001b[0m\u001b[0;34m)\u001b[0m\u001b[0;34m\u001b[0m\u001b[0;34m\u001b[0m\u001b[0m\n\u001b[0m\u001b[1;32m    930\u001b[0m             \u001b[0;32melse\u001b[0m\u001b[0;34m:\u001b[0m\u001b[0;34m\u001b[0m\u001b[0;34m\u001b[0m\u001b[0m\n\u001b[1;32m    931\u001b[0m                 \u001b[0;32mreturn\u001b[0m \u001b[0mself\u001b[0m\u001b[0;34m.\u001b[0m\u001b[0m_sslobj\u001b[0m\u001b[0;34m.\u001b[0m\u001b[0mread\u001b[0m\u001b[0;34m(\u001b[0m\u001b[0mlen\u001b[0m\u001b[0;34m)\u001b[0m\u001b[0;34m\u001b[0m\u001b[0;34m\u001b[0m\u001b[0m\n",
            "\u001b[0;31mKeyboardInterrupt\u001b[0m: "
          ]
        }
      ]
    },
    {
      "cell_type": "code",
      "metadata": {
        "id": "jDE_xYP_E1_X"
      },
      "source": [
        "parsed_table"
      ],
      "execution_count": null,
      "outputs": []
    },
    {
      "cell_type": "code",
      "metadata": {
        "id": "HX0NYI90JwOg"
      },
      "source": [
        "# parsed_table.to_excel('SAS project data.xlsx', index=False)"
      ],
      "execution_count": null,
      "outputs": []
    },
    {
      "cell_type": "code",
      "metadata": {
        "id": "78KRVgcyoUoR"
      },
      "source": [
        "parsed_table = pd.read_excel('/content/SASemitents/SAS_project_data.xlsx')"
      ],
      "execution_count": null,
      "outputs": []
    },
    {
      "cell_type": "markdown",
      "metadata": {
        "id": "R-NjtgBZl8WN"
      },
      "source": [
        "# Вычленение информации из собранных данных"
      ]
    },
    {
      "cell_type": "markdown",
      "metadata": {
        "id": "QNNS74AxJW_A"
      },
      "source": [
        "- #### Полное название, Сокращенное название, ОГРН, ИНН, Место нахождения эмитента"
      ]
    },
    {
      "cell_type": "code",
      "metadata": {
        "id": "XU9g_u1pyiiw"
      },
      "source": [
        "def get_name(x):\n",
        "  x = str(x)\n",
        "  ind = x.lower().find('полное фирменное наименование')\n",
        "  full_name = x[ind - 1:x[ind:].find('<br/>')+ind].split(')')[-1].strip('\\t').strip('\\r').strip('\\xa0').strip(':').strip('Полное фирменное наименование эмитент').strip(' : ').strip('\\t')\n",
        "  return full_name"
      ],
      "execution_count": null,
      "outputs": []
    },
    {
      "cell_type": "code",
      "metadata": {
        "id": "AQFFPDxizS5Y",
        "colab": {
          "base_uri": "https://localhost:8080/",
          "height": 163
        },
        "outputId": "ceb9d9d0-ad21-400a-acad-1d1eaf4177e9"
      },
      "source": [
        "parsed_table['Полное название'] = parsed_table['content'].apply(get_name)"
      ],
      "execution_count": null,
      "outputs": [
        {
          "output_type": "error",
          "ename": "NameError",
          "evalue": "ignored",
          "traceback": [
            "\u001b[0;31m---------------------------------------------------------------------------\u001b[0m",
            "\u001b[0;31mNameError\u001b[0m                                 Traceback (most recent call last)",
            "\u001b[0;32m<ipython-input-4-a4fe3fbb0ecd>\u001b[0m in \u001b[0;36m<module>\u001b[0;34m()\u001b[0m\n\u001b[0;32m----> 1\u001b[0;31m \u001b[0mparsed_table\u001b[0m\u001b[0;34m[\u001b[0m\u001b[0;34m'Полное название'\u001b[0m\u001b[0;34m]\u001b[0m \u001b[0;34m=\u001b[0m \u001b[0mparsed_table\u001b[0m\u001b[0;34m[\u001b[0m\u001b[0;34m'content'\u001b[0m\u001b[0;34m]\u001b[0m\u001b[0;34m.\u001b[0m\u001b[0mapply\u001b[0m\u001b[0;34m(\u001b[0m\u001b[0mget_name\u001b[0m\u001b[0;34m)\u001b[0m\u001b[0;34m\u001b[0m\u001b[0;34m\u001b[0m\u001b[0m\n\u001b[0m",
            "\u001b[0;31mNameError\u001b[0m: name 'parsed_table' is not defined"
          ]
        }
      ]
    },
    {
      "cell_type": "code",
      "metadata": {
        "id": "7sfw78wAakZ5"
      },
      "source": [
        "parsed_table['Сокращенное название'] = parsed_table['company_name']"
      ],
      "execution_count": null,
      "outputs": []
    },
    {
      "cell_type": "code",
      "metadata": {
        "id": "lKm-3gDxPkB1"
      },
      "source": [
        "def get_full_name(text, lookup):\n",
        "  for br in str(text).split('<br/>'):\n",
        "    if lookup in br:\n",
        "      return br\n",
        "\n",
        "def points(text, lookup):\n",
        "  if ':' in text:\n",
        "    return text[text.find(':')+1:]\n",
        "  elif '\\t' in text:\n",
        "    return text[text.find('\\t')+1:]\n",
        "  else:\n",
        "    return text[text.find(lookup):]\n",
        "\n",
        "# parsed_table['Полное название'] = parsed_table['content'].apply(lambda x: points(get_full_name(x, 'Полное фирменное наименование эмитента'), 'Полное фирменное наименование эмитента').strip('\\r'))"
      ],
      "execution_count": null,
      "outputs": []
    },
    {
      "cell_type": "code",
      "metadata": {
        "id": "h-wTM6bJhYT4"
      },
      "source": [
        "tolookfor='ИНН'\n",
        "parsed_table['ИНН'] = parsed_table.content.apply(lambda x: points(get_full_name(x, tolookfor), tolookfor).strip(' ').strip('\\r').strip('\\t').strip('\\xa0'))\n",
        "parsed_table['ИНН'] = parsed_table['ИНН'].apply(lambda x: x.replace('\\t', ' ').split(' ')[-1])"
      ],
      "execution_count": null,
      "outputs": []
    },
    {
      "cell_type": "code",
      "metadata": {
        "id": "yd642kxgjlEr"
      },
      "source": [
        "tolookfor='Место нахождения эмитента'\n",
        "parsed_table['Адрес'] = parsed_table.content.apply(lambda x: points(get_full_name(x, tolookfor), tolookfor).strip(' ').strip('\\r').strip('\\t').strip('\\xa0'))"
      ],
      "execution_count": null,
      "outputs": []
    },
    {
      "cell_type": "code",
      "metadata": {
        "id": "mEMYjEcxbMUP",
        "colab": {
          "base_uri": "https://localhost:8080/",
          "height": 1000
        },
        "outputId": "aa414390-cbeb-421f-9fdf-589bd213b512"
      },
      "source": [
        "'''\n",
        "tolookfor='ОГРН эмитента'\n",
        "parsed_table['ОГРН'] = parsed_table.content.apply(lambda x: points(get_full_name(x, tolookfor), tolookfor).strip(' ').strip('\\r').strip('\\t').strip('\\xa0'))\n",
        "parsed_table['ОГРН'] = parsed_table['ОГРН'].apply(lambda x: x.replace('\\t', ' ').split(' ')[-1]).astype(int)\n",
        "'''"
      ],
      "execution_count": null,
      "outputs": [
        {
          "output_type": "execute_result",
          "data": {
            "application/vnd.google.colaboratory.intrinsic+json": {
              "type": "string"
            },
            "text/plain": [
              "\"\\ntolookfor='ОГРН эмитента'\\nparsed_table['ОГРН'] = parsed_table.content.apply(lambda x: points(get_full_name(x, tolookfor), tolookfor).strip(' ').strip('\\r').strip('\\t').strip('\\xa0'))\\nparsed_table['ОГРН'] = parsed_table['ОГРН'].apply(lambda x: x.replace('\\t', ' ').split(' ')[-1]).astype(int)\\n\""
            ]
          },
          "metadata": {
            "tags": []
          },
          "execution_count": 10
        }
      ]
    },
    {
      "cell_type": "code",
      "metadata": {
        "id": "CbD-WQ_c2AaE"
      },
      "source": [
        "def get_ogrn(x):\n",
        "  x = str(x)\n",
        "  ind = x.find('ОГРН эмитента')\n",
        "  try:\n",
        "    ogrn = int(x[ind:x[ind:].find('<br/>')+ind].split('ОГРН эмитента')[-1].strip('\\t').strip('\\r').strip('\\xa0').strip(':').strip(' ').strip(';'))\n",
        "  except:\n",
        "    try:\n",
        "      ogrn = int(x[ind:x[ind:].replace('<br/>', 'XXXXX', 1).find('<br/>')+ind].split('ОГРН эмитента')[-1].strip('.<br/>').strip('\\t').strip('\\r').strip('\\xa0').strip(':').strip(' '))\n",
        "    except:\n",
        "      ogrn = int(x[ind:x[ind:].find('<br/>')+ind].split('–')[-1].strip('\\t').strip('\\r').strip('\\xa0').strip('-').strip(' '))\n",
        "  return ogrn"
      ],
      "execution_count": null,
      "outputs": []
    },
    {
      "cell_type": "code",
      "metadata": {
        "id": "jiJIP_6q2PIB"
      },
      "source": [
        "parsed_table['ОГРН'] = parsed_table.content.apply(get_ogrn)"
      ],
      "execution_count": null,
      "outputs": []
    },
    {
      "cell_type": "markdown",
      "metadata": {
        "id": "t_2jIY11JN99"
      },
      "source": [
        "- #### Дата проведения собрания"
      ]
    },
    {
      "cell_type": "code",
      "metadata": {
        "id": "HD-QS65AIA8_"
      },
      "source": [
        "def find_date(x):\n",
        "  x = x.lower().replace('июля', '07').replace('августа', '08').replace('сентября', '09')\n",
        "  for i in x.split('<br/>'):\n",
        "    a = i.split('\\t')\n",
        "    for m in a:\n",
        "      if 'дата' in m:\n",
        "\n",
        "        try:\n",
        "          date = pd.to_datetime(i.strip('г.').strip('года').split()[-1], dayfirst=True)\n",
        "\n",
        "          if date.month < 7: # если выполняется, значит, увидел только год, либо не та дата\n",
        "            1/0 # просто ломаем код\n",
        "          if date.year < 2020: # если выполняется, значит, не та дата\n",
        "            break\n",
        "\n",
        "          return date\n",
        "\n",
        "        except:\n",
        "          i = i.replace('г.', ' г.') # вставим пробел там, где его не хватает, чтобы сплитить спокойно\n",
        "          date = '.'.join(i.split()[-4:-1]).replace('«', '').replace('»', '') # собираем составную дату\n",
        "\n",
        "          try:\n",
        "            date = pd.to_datetime(date, dayfirst=True) # проверяем, что datetime работает\n",
        "\n",
        "            if date.month == 1:\n",
        "              1/0\n",
        "            if date.year < 2020:\n",
        "              break\n",
        "\n",
        "            return date\n",
        "\n",
        "          except:\n",
        "            continue # если не нашел дату, идем дальше по циклу\n"
      ],
      "execution_count": null,
      "outputs": []
    },
    {
      "cell_type": "code",
      "metadata": {
        "id": "W4-t_Coc-WSC"
      },
      "source": [
        "parsed_table['Дата собрания'] = parsed_table.content.apply(find_date)"
      ],
      "execution_count": null,
      "outputs": []
    },
    {
      "cell_type": "code",
      "metadata": {
        "colab": {
          "base_uri": "https://localhost:8080/",
          "height": 252
        },
        "id": "pavTPvwSen9h",
        "outputId": "d219780e-849a-433b-a707-65c4302c7f65"
      },
      "source": [
        "parsed_table[parsed_table['Дата собрания'].isna()]\n",
        "# 4 не достались, в них либо особенность - дата написана посреди предложения, либо там переход на новый абзац, \n",
        "# вообще можно добить, но вроде некритично"
      ],
      "execution_count": null,
      "outputs": [
        {
          "output_type": "execute_result",
          "data": {
            "text/html": [
              "<div>\n",
              "<style scoped>\n",
              "    .dataframe tbody tr th:only-of-type {\n",
              "        vertical-align: middle;\n",
              "    }\n",
              "\n",
              "    .dataframe tbody tr th {\n",
              "        vertical-align: top;\n",
              "    }\n",
              "\n",
              "    .dataframe thead th {\n",
              "        text-align: right;\n",
              "    }\n",
              "</style>\n",
              "<table border=\"1\" class=\"dataframe\">\n",
              "  <thead>\n",
              "    <tr style=\"text-align: right;\">\n",
              "      <th></th>\n",
              "      <th>company_name</th>\n",
              "      <th>link</th>\n",
              "      <th>content</th>\n",
              "      <th>Полное название</th>\n",
              "      <th>Сокращенное название</th>\n",
              "      <th>ИНН</th>\n",
              "      <th>Адрес</th>\n",
              "      <th>ОГРН</th>\n",
              "      <th>Дата собрания</th>\n",
              "    </tr>\n",
              "  </thead>\n",
              "  <tbody>\n",
              "    <tr>\n",
              "      <th>176</th>\n",
              "      <td>ПАО \"НБД-Банк\"</td>\n",
              "      <td>https://www.e-disclosure.ru/portal/event.aspx?...</td>\n",
              "      <td>&lt;div style=\"word-break: break-word; word-wrap:...</td>\n",
              "      <td>Публичное акционерное общество «НБД-Банк»</td>\n",
              "      <td>ПАО \"НБД-Банк\"</td>\n",
              "      <td>5200000222</td>\n",
              "      <td>603950, г. Нижний Новгород, пл. Горького, д. 6</td>\n",
              "      <td>1025200000022</td>\n",
              "      <td>NaT</td>\n",
              "    </tr>\n",
              "    <tr>\n",
              "      <th>197</th>\n",
              "      <td>ОАО \"Ростовнеруд\"</td>\n",
              "      <td>https://www.e-disclosure.ru/portal/event.aspx?...</td>\n",
              "      <td>&lt;div style=\"word-break: break-word; word-wrap:...</td>\n",
              "      <td>Открытое акционерное общество «Ростовнеруд»</td>\n",
              "      <td>ОАО \"Ростовнеруд\"</td>\n",
              "      <td>6155028306</td>\n",
              "      <td>Российская Федерация, Ростовская область,  г. ...</td>\n",
              "      <td>1036155000199</td>\n",
              "      <td>NaT</td>\n",
              "    </tr>\n",
              "    <tr>\n",
              "      <th>257</th>\n",
              "      <td>ОАО \"Мясниковский агроснаб\"</td>\n",
              "      <td>https://www.e-disclosure.ru/portal/event.aspx?...</td>\n",
              "      <td>&lt;div style=\"word-break: break-word; word-wrap:...</td>\n",
              "      <td>Открытое акционерное общество «Мясниковский аг...</td>\n",
              "      <td>ОАО \"Мясниковский агроснаб\"</td>\n",
              "      <td>6122000961</td>\n",
              "      <td>Место нахождения эмитента 346800, Россия, Рост...</td>\n",
              "      <td>1026101310949</td>\n",
              "      <td>NaT</td>\n",
              "    </tr>\n",
              "    <tr>\n",
              "      <th>419</th>\n",
              "      <td>АО \"Омский каучук\"</td>\n",
              "      <td>https://www.e-disclosure.ru/portal/event.aspx?...</td>\n",
              "      <td>&lt;div style=\"word-break: break-word; word-wrap:...</td>\n",
              "      <td>Акционерное общество «Омский каучук»</td>\n",
              "      <td>АО \"Омский каучук\"</td>\n",
              "      <td>5501023216</td>\n",
              "      <td>644035,  г. Омск, пр-кт Губкина, 30</td>\n",
              "      <td>1025500520297</td>\n",
              "      <td>NaT</td>\n",
              "    </tr>\n",
              "  </tbody>\n",
              "</table>\n",
              "</div>"
            ],
            "text/plain": [
              "                    company_name  ... Дата собрания\n",
              "176               ПАО \"НБД-Банк\"  ...           NaT\n",
              "197            ОАО \"Ростовнеруд\"  ...           NaT\n",
              "257  ОАО \"Мясниковский агроснаб\"  ...           NaT\n",
              "419           АО \"Омский каучук\"  ...           NaT\n",
              "\n",
              "[4 rows x 9 columns]"
            ]
          },
          "metadata": {
            "tags": []
          },
          "execution_count": 15
        }
      ]
    },
    {
      "cell_type": "code",
      "metadata": {
        "colab": {
          "base_uri": "https://localhost:8080/",
          "height": 48
        },
        "id": "VyDZI9U7oClL",
        "outputId": "344e37e1-64a6-48a5-bac5-b1c2e858d285"
      },
      "source": [
        "parsed_table[parsed_table['Дата собрания'] < '2020-07-01'] # всё корректно досталось"
      ],
      "execution_count": null,
      "outputs": [
        {
          "output_type": "execute_result",
          "data": {
            "text/html": [
              "<div>\n",
              "<style scoped>\n",
              "    .dataframe tbody tr th:only-of-type {\n",
              "        vertical-align: middle;\n",
              "    }\n",
              "\n",
              "    .dataframe tbody tr th {\n",
              "        vertical-align: top;\n",
              "    }\n",
              "\n",
              "    .dataframe thead th {\n",
              "        text-align: right;\n",
              "    }\n",
              "</style>\n",
              "<table border=\"1\" class=\"dataframe\">\n",
              "  <thead>\n",
              "    <tr style=\"text-align: right;\">\n",
              "      <th></th>\n",
              "      <th>company_name</th>\n",
              "      <th>link</th>\n",
              "      <th>content</th>\n",
              "      <th>Полное название</th>\n",
              "      <th>Сокращенное название</th>\n",
              "      <th>ИНН</th>\n",
              "      <th>Адрес</th>\n",
              "      <th>ОГРН</th>\n",
              "      <th>Дата собрания</th>\n",
              "    </tr>\n",
              "  </thead>\n",
              "  <tbody>\n",
              "  </tbody>\n",
              "</table>\n",
              "</div>"
            ],
            "text/plain": [
              "Empty DataFrame\n",
              "Columns: [company_name, link, content, Полное название, Сокращенное название, ИНН, Адрес, ОГРН, Дата собрания]\n",
              "Index: []"
            ]
          },
          "metadata": {
            "tags": []
          },
          "execution_count": 16
        }
      ]
    },
    {
      "cell_type": "markdown",
      "metadata": {
        "id": "-hjEFz2ZJo-C"
      },
      "source": [
        "- #### Форма собрания"
      ]
    },
    {
      "cell_type": "code",
      "metadata": {
        "id": "zGF8YfeSJvpH"
      },
      "source": [
        "def find_form(x):\n",
        "  x = str(x).lower()\n",
        "  ind = -1 \n",
        "  look = ['форма проведения', 'форма поведения', 'общего собрания путем', 'общего собрания акционеров путем',\n",
        "          'форма и вид проведения', 'вид и форма общего собрания', 'форма собрания']\n",
        "  i=0\n",
        "  while ind == -1:\n",
        "    ind = x.find(look[i])\n",
        "    i+=1\n",
        "    if i >= len(look):\n",
        "      break\n",
        "\n",
        "\n",
        "  if (x.find('место проведения') != -1) or\\\n",
        "  (x.find('дата, место, время проведения') != -1) or\\\n",
        "  (x.find('дата, ме-сто, время проведения') != -1) or\\\n",
        "  (x.find('место (адрес) проведения') != -1) or\\\n",
        "  (x.find('личное присутствие') != -1) or\\\n",
        "  (x.find('будет проводиться по адресу') != -1):\n",
        "    return 'очное'\n",
        "  elif ind == -1:\n",
        "    return np.nan\n",
        "  else:\n",
        "    if (x[ind:].find('заочн') != -1) or (x[ind:].find('Заочн') != -1):\n",
        "      return 'заочное'\n",
        "    elif (x[ind:].find('совместное присутствие') != -1) or (x[ind:].find('совместного присутствия') != -1):\n",
        "      return 'очное'\n",
        "    else:\n",
        "      return np.nan\n"
      ],
      "execution_count": null,
      "outputs": []
    },
    {
      "cell_type": "code",
      "metadata": {
        "id": "1wU2IW1ZKaof"
      },
      "source": [
        "parsed_table['Форма собрания'] = parsed_table.content.apply(find_form)"
      ],
      "execution_count": null,
      "outputs": []
    },
    {
      "cell_type": "code",
      "metadata": {
        "colab": {
          "base_uri": "https://localhost:8080/"
        },
        "id": "ImrRQO67oTKE",
        "outputId": "cb6f6fbc-aed2-438c-80b5-eb40dbf5c060"
      },
      "source": [
        "parsed_table['Форма собрания'].value_counts()"
      ],
      "execution_count": null,
      "outputs": [
        {
          "output_type": "execute_result",
          "data": {
            "text/plain": [
              "очное      379\n",
              "заочное    143\n",
              "Name: Форма собрания, dtype: int64"
            ]
          },
          "metadata": {
            "tags": []
          },
          "execution_count": 19
        }
      ]
    },
    {
      "cell_type": "markdown",
      "metadata": {
        "id": "7B1EB9jqUQaA"
      },
      "source": [
        "- #### Дивиденды"
      ]
    },
    {
      "cell_type": "code",
      "metadata": {
        "id": "ov6MlAA3Voel"
      },
      "source": [
        "def div_agenda(x): # ищем, есть ли упоминание дивидендов в решении\n",
        "  x = str(x.lower())\n",
        "\n",
        "  if ('дивид' in x) or\\\n",
        "  ('распределение чистой прибыли' in x) or\\\n",
        "  ('о распределении чистой прибыли 'in x) or\\\n",
        "  ('распределение прибыли' in x):\n",
        "    return np.nan\n",
        "  else:\n",
        "    return 'вопрос не поднимался'\n",
        "\n",
        "\n",
        "def div_res(x): # проверяем решение по дивам\n",
        "  x = str(x).lower()\n",
        "  ind1 = x.find('не распред')\n",
        "  if ind1 == -1:\n",
        "    ind1 = x.find('не выплач')\n",
        "  if ind1 == -1:\n",
        "    ind1 = x.find('невыпла')\n",
        "  if ind1 == -1:\n",
        "    ind1 = x.find('не начисл')\n",
        "  if ind1 == -1:\n",
        "    ind1 = x.find('не производ')\n",
        "\n",
        "# смотрим, есть ли связь между отрицательным сказуемым и дивидендами, для этого задаем интервал, внутри которого должны находиться оба слова\n",
        "  ind2 = x[ind1- 400:ind1+400].find('дивид')\n",
        "  ind3 = x[ind1- 400:ind1+400].find('прибыль')\n",
        "  ind4 = x[ind1- 400:ind1+400].find('убыт')\n",
        "\n",
        "  if (ind1 != -1) and (ind2 != -1 or ind3 != -1 or ind4 != -1):\n",
        "    return 'принято решение не выплачивать дивиденды'\n",
        "  else:\n",
        "    return 'принято решение выплатить дивиденды'\n",
        "\n",
        "  # есть неточности, но в целом (примерно 90% достает корректно) очень даже неплохо работает"
      ],
      "execution_count": null,
      "outputs": []
    },
    {
      "cell_type": "code",
      "metadata": {
        "id": "IjnxgAqxUjnb"
      },
      "source": [
        "parsed_table['Дивиденды'] = parsed_table.content.apply(div_agenda)\n",
        "parsed_table.loc[parsed_table['Дивиденды'].isna(), 'Дивиденды'] = parsed_table[parsed_table['Дивиденды'].isna()].content.apply(div_res)"
      ],
      "execution_count": null,
      "outputs": []
    },
    {
      "cell_type": "code",
      "metadata": {
        "colab": {
          "base_uri": "https://localhost:8080/"
        },
        "id": "Nc1syCJfCEx7",
        "outputId": "c64deb8f-aaca-4168-eb82-574a362c62e2"
      },
      "source": [
        "parsed_table['Дивиденды'].value_counts()"
      ],
      "execution_count": null,
      "outputs": [
        {
          "output_type": "execute_result",
          "data": {
            "text/plain": [
              "принято решение не выплачивать дивиденды    297\n",
              "вопрос не поднимался                        124\n",
              "принято решение выплатить дивиденды         109\n",
              "Name: Дивиденды, dtype: int64"
            ]
          },
          "metadata": {
            "tags": []
          },
          "execution_count": 22
        }
      ]
    },
    {
      "cell_type": "markdown",
      "metadata": {
        "id": "m3pIezkIpP71"
      },
      "source": [
        "- #### Наименование и ИНН утвержденного аудитора + тип отчетности, которую ему поручено проверять (при наличии)"
      ]
    },
    {
      "cell_type": "code",
      "metadata": {
        "id": "UURS2VF-084v"
      },
      "source": [
        "found = parsed_table\n",
        "data = parsed_table"
      ],
      "execution_count": null,
      "outputs": []
    },
    {
      "cell_type": "code",
      "metadata": {
        "id": "HC4iXu1drYH3"
      },
      "source": [
        "indices = np.array([])\n",
        "for i in range(len(data)):\n",
        "    indices = np.append(indices, data['content'][i].lower().find('удитор'))"
      ],
      "execution_count": null,
      "outputs": []
    },
    {
      "cell_type": "code",
      "metadata": {
        "id": "QVflwKu8uzpj"
      },
      "source": [
        "found['Аудитор'] = ''\n",
        "found['Аудитор'][np.where(indices < 0)[0]] = 'Аудитора нет'"
      ],
      "execution_count": null,
      "outputs": []
    },
    {
      "cell_type": "code",
      "metadata": {
        "id": "-W-QHWEsrkDu"
      },
      "source": [
        "signs_comp = ['ООО', 'ЗАО', 'ОАО', 'ПАО', 'Общество', 'АО'] # знаки для поиска компании\n",
        "punct = '#$%&\\()*,/:;<=>?@[\\\\]^_`{|}~' # белый шум\n",
        "# данная функция убирает из текста возможные наименования фирмы, которая нанимает аудитора\n",
        "def remove_comp_name(x, string):\n",
        "    comp = found['company_name'][x]\n",
        "    n = comp.count('\"')\n",
        "    if n > 2:\n",
        "        # если кавычек больше двух, то последние две заменим на другие\n",
        "        string = string.replace(comp.replace('\"', '«', n - 1).replace('\"', '»', 1), '')\n",
        "    # убираем название компании и все производные от него\n",
        "    string = string.replace(comp, '') \n",
        "    string = ' '.join(string.replace(comp.replace('№', ''), '').split())\n",
        "    string = ' '.join(string.replace('№', '').replace(comp, '').split())\n",
        "    string = string.replace(comp.replace('\"', '«', 1).replace('\"', '»', 1), '')\n",
        "    string = string.replace(comp.replace('«','\"').replace('»','\"'), '')\n",
        "    for elem in signs_comp:\n",
        "        comp = comp.replace(elem, '')\n",
        "    # убиарем пунктуацию\n",
        "    for i in range(len(punct)):\n",
        "        comp = comp.replace(punct[i], '')\n",
        "    comp = comp.strip()\n",
        "    # убираем еще варианты того, как можно переделать название компании\n",
        "    for elem in signs_comp:\n",
        "        string = string.replace(elem + ' ' + comp, '')\n",
        "    try:\n",
        "        string = string.replace(found['Полное название'][x].split('\"')[-2], '')\n",
        "    except:\n",
        "        try:\n",
        "            string = string.replace('«' + found['Полное название'][x].split('«')[-1], '')\n",
        "        except:\n",
        "            pass\n",
        "    # здесь учитываем случай, когда в названии компании делается ошибка (например, вместо русской с пишется английская c)\n",
        "    s = string.split()\n",
        "    n = len(comp.split())\n",
        "    for x in range(0, len(s) - n):\n",
        "        s2 = ' '.join(s[x:x + n])\n",
        "        # если расстояние между словами меньше 5 (то есть меньше 5 букв различается), то это название компании\n",
        "        if nltk.edit_distance(comp, s2) < 5:\n",
        "            del s[x: x + n]\n",
        "            break\n",
        "    string = ' '.join(s)\n",
        "    # убираем фирму реестр\n",
        "    return string.replace('ООО \"Реестр-РН\"', '').strip()\n",
        "\n",
        "# работаем с теми текстами, где есть вхождения:\n",
        "for i in np.where(indices != -1)[0]:\n",
        "    # находим все куски текста, где есть данные вхождения\n",
        "    t = [m.start() > [m.start() for m in re.finditer('удитор', data['content'][i].lower())][-1]\n",
        "                for m in re.finditer('<br/>', data['content'][i].lower())]\n",
        "    # убираем ту часть текста, которая до первого вхождения, и ту, которая после последнего вхождения (с некоторым интервалом)\n",
        "    left = [m.start() for m in re.finditer('<br/>', data['content'][i].lower())][list(compress(range(len(t)), t))[0] - 1]\n",
        "    right = [m.start() for m in re.finditer('<br/>', data['content'][i].lower())][list(compress(range(len(t)), t))[0] + 1]\n",
        "    # убираем разметку <br\\>\n",
        "    string = data['content'][i][left + 5:right - 1].replace('<br/>', '').replace('<br/', '')\n",
        "    # знаки для поиска аудитора\n",
        "    signs = ['ООО', 'ЗАО', 'ОАО', 'Акционерное', 'акционерное', 'Общество', 'общество', 'АО', \"АКЦИОНЕРНОЕ\"]\n",
        "    # удаляем название компании\n",
        "    string = remove_comp_name(i, string)\n",
        "    k = 0\n",
        "    string = string[:600]\n",
        "    # ищем последнее вхождение знака\n",
        "    for elem in signs:\n",
        "        c = string.rfind(elem)\n",
        "        if c > k:\n",
        "            k = c\n",
        "    string = string[k:]\n",
        "    # ищем кавычки, так как они находят фирмы\n",
        "    if len(string[:string.find('»') + 1]) > 0:\n",
        "        found['Аудитор'][i] = string[:string.find('»') + 1]\n",
        "    elif len(string[:string.replace('\"', ',', 2).find('\"') + 1]) > 0 and string.replace('\"', ',', 2).find('\"')  - string.replace('\"', ',', 1).find('\"')  < 25:\n",
        "        found['Аудитор'][i] = string[:string.replace('\"', ',',2 ).find('\"') + 1]\n",
        "    elif len(string[:string.replace('\"', ',', 1).find('\"') + 1]) > 0:\n",
        "        found['Аудитор'][i] = string[:string.replace('\"', ',', 1).find('\"') + 1]\n",
        "    elif len(string[string.find('«'):string.find('»') + 1]) > 0:\n",
        "        found['Аудитор'][i] = string[string.find('«'):string.find('»') + 1]\n",
        "    elif len(string[string.find('«'):string.find('\"') + 1]) > 0:\n",
        "        found['Аудитор'][i] = string[string.find('«') - 4:string.find('\"') + 1]\n",
        "    else:\n",
        "        found['Аудитор'][i] = string\n",
        "        k = 0\n",
        "    # если предыдущие правила не сработали, выводим доделать\n",
        "    if k == 0 or len(found['Аудитор'][i].split()) == 1:\n",
        "        found['Аудитор'][i] = 'Доделать'\n",
        "\n",
        "# второй цикл для тех текстов, где нужно доделать\n",
        "for i in np.where(found['Аудитор'] == 'Доделать')[0]:\n",
        "    # если вхождение ровно одно, то выводим, что аудитора нет, так как вхождений должно быть минимум 2 \n",
        "    # (упоминание в повестке дня и в отдельном рассмотрении)\n",
        "    if len([m.start() for m in re.finditer('удитор', data['content'][i].lower())]) == 1:\n",
        "        found['Аудитор'][i] = 'Аудитора нет'\n",
        "    # ищем все вхождения по текстам\n",
        "    t = [m.start() > [m.start() for m in re.finditer('удитор', data['content'][i].lower())][-1]\n",
        "            for m in re.finditer('<br/>', data['content'][i].lower())]\n",
        "    # в этот раз берем большее окно \n",
        "    left = [m.start() for m in re.finditer('<br/>', data['content'][i].lower())][list(compress(range(len(t)), t))[0] - 3]\n",
        "    right = [m.start() for m in re.finditer('<br/>', data['content'][i].lower())][list(compress(range(len(t)), t))[0] + 3]\n",
        "    # удаляем разметку\n",
        "    string = data['content'][i][left + 5:right - 1].replace('<br/>', '').replace('<br/', '')\n",
        "    # выписываем знаки и удаляем название компании\n",
        "    signs = ['ООО', 'ЗАО', 'ОАО', 'Акционерное', 'акционерное', 'Общество', 'общество', 'АО', \"АКЦИОНЕРНОЕ\"]\n",
        "    string = remove_comp_name(i, string)\n",
        "    # удаляем особые кейсы, когда фирма не раскрывает сведения (как ПАО Звезда):\n",
        "    if string.lower().find('не раскрываются') != -1:\n",
        "        found['Аудитор'][i] = 'Сведения не раскрываются'\n",
        "    # иначе ищем те куски текста, где есть выражение, рядом с которым обычно находятся названия фирм-аудиторов\n",
        "    else:\n",
        "        # убираем за против воздержался, так как они обычно в кавычках\n",
        "        string = string.lower().replace('«за»', '').replace('«против»', '').replace('«воздержался»', '')\n",
        "        # ищем фразу утвердить аудитором\n",
        "        string = string[string.lower().find('утвердить аудитором'):]\n",
        "        k = 0\n",
        "        # в данной подстроке ищем наки\n",
        "        for elem in signs:\n",
        "            c = string.rfind(elem)\n",
        "            if c > k:\n",
        "                k = c\n",
        "                break\n",
        "        string = string[k:]\n",
        "        # далее поиск аудитора по кавычкам\n",
        "        if len(string[:string.find('»') + 1]) > 0:\n",
        "            found['Аудитор'][i] = string[:string.find('»') + 1]\n",
        "        elif len(string[:string.replace('\"', ',', 2).find('\"') + 1]) > 0 and string.replace('\"', ',', 2).find('\"')  - string.replace('\"', ',', 1).find('\"')  < 25:\n",
        "            found['Аудитор'][i] = string[:string.replace('\"', ',',2 ).find('\"') + 1]\n",
        "        elif len(string[:string.replace('\"', ',', 1).find('\"') + 1]) > 0:\n",
        "            found['Аудитор'][i] = string[:string.replace('\"', ',', 1).find('\"') + 1]\n",
        "        elif len(string[string.find('«'):string.find('»') + 1]) > 0:\n",
        "            found['Аудитор'][i] = string[string.find('«'):string.find('»') + 1]\n",
        "        elif len(string[string.find('«'):string.find('\"') + 1]) > 0:\n",
        "            found['Аудитор'][i] = string[string.find('«') - 4:string.find('\"') + 1]\n",
        "        # если не сработали кавычки, ищем по пунктуации\n",
        "        elif len(string[:string.find(',') + 1]) > 0:\n",
        "            found['Аудитор'][i] = string[:string.find(',')]\n",
        "        else:\n",
        "            found['Аудитор'][i] = string\n",
        "            k = 0\n",
        "        # если ничего не нашли, то выводим доделать\n",
        "        if k == 0 or len(found['Аудитор'][i].split()) == 1:\n",
        "            found['Аудитор'][i] = 'Доделать'\n",
        "# обработка, чтобы все названия аудиторов выводились с большой буквы\n",
        "found['Аудитор'] = found['Аудитор'].apply(lambda x: re.sub('([а-яА-Я])', lambda x: x.groups()[0].upper(), x, 1).strip())"
      ],
      "execution_count": null,
      "outputs": []
    },
    {
      "cell_type": "code",
      "metadata": {
        "colab": {
          "base_uri": "https://localhost:8080/"
        },
        "id": "iwuQg_2JruNL",
        "outputId": "c8f5722a-ff7b-49f4-f385-1f704b89c71c"
      },
      "source": [
        "print('Нужно доделать:', len(np.where(found['Аудитор'] == 'Доделать')[0]))\n",
        "print('Всего текстов:', len(found))"
      ],
      "execution_count": null,
      "outputs": [
        {
          "output_type": "stream",
          "text": [
            "Нужно доделать: 53\n",
            "Всего текстов: 530\n"
          ],
          "name": "stdout"
        }
      ]
    },
    {
      "cell_type": "code",
      "metadata": {
        "id": "mrLGfunur4fh"
      },
      "source": [
        "found['ИНН Аудитора'] = ' '\n",
        "for i in range(len(found)):\n",
        "    # ищем вхождения подстроки 'удитор'\n",
        "    try:\n",
        "        t = [m.start() > [m.start() for m in re.finditer('удитор', data['content'][i].lower())][-1]\n",
        "             for m in re.finditer('<br/>', data['content'][i].lower())]\n",
        "    except:\n",
        "        t = -29\n",
        "    if t != -29:\n",
        "        # если такие вхождения есть, то ищем куски текста с аудиторами\n",
        "        left = [m.start() for m in re.finditer('<br/>', data['content'][i].lower())][list(compress(range(len(t)), t))[0] - 1]\n",
        "        right = [m.start() for m in re.finditer('<br/>', data['content'][i].lower())][list(compress(range(len(t)), t))[0] + 1]\n",
        "        string = data['content'][i][left + 5:right - 1].replace('<br/>', '').replace('<br/', '')\n",
        "        # с помощью регулярного выражения ищем 10-значное число, рядом с которым есть слово ИНН\n",
        "        try:\n",
        "            found['ИНН Аудитора'][i] = int(re.findall(r'\\b\\d{10}\\b', string)[0]) * ('ИНН' in string)\n",
        "        except:\n",
        "            pass"
      ],
      "execution_count": null,
      "outputs": []
    },
    {
      "cell_type": "markdown",
      "metadata": {
        "id": "HdZHQFgikf3_"
      },
      "source": [
        "- #### Совет Директоров"
      ]
    },
    {
      "cell_type": "code",
      "metadata": {
        "colab": {
          "base_uri": "https://localhost:8080/"
        },
        "id": "c9Ooey5IkkIp",
        "outputId": "86de1cf2-0cc4-4fde-8000-1188feaf1e51"
      },
      "source": [
        "# импортируем нужные библиотеки и наташу\n",
        "# наташа хорошо ищет именованные сущности в текстах на русском \n",
        "# (лучше всего людей, поэтому используем ее)\n",
        "import numpy as np\n",
        "import pandas as pd\n",
        "!pip install natasha \n",
        "from natasha import (\n",
        "    Segmenter,\n",
        "    MorphVocab,\n",
        "    \n",
        "    NewsEmbedding,\n",
        "    NewsMorphTagger,\n",
        "    NewsSyntaxParser,\n",
        "    NewsNERTagger,\n",
        "    \n",
        "    PER,\n",
        "    NamesExtractor,\n",
        "    DatesExtractor,\n",
        "    MoneyExtractor,\n",
        "    AddrExtractor,\n",
        "\n",
        "    Doc\n",
        ")\n",
        "\n",
        "segmenter = Segmenter()\n",
        "morph_vocab = MorphVocab()\n",
        "\n",
        "emb = NewsEmbedding()\n",
        "morph_tagger = NewsMorphTagger(emb)\n",
        "syntax_parser = NewsSyntaxParser(emb)\n",
        "ner_tagger = NewsNERTagger(emb)\n",
        "\n",
        "names_extractor = NamesExtractor(morph_vocab)\n",
        "dates_extractor = DatesExtractor(morph_vocab)\n",
        "money_extractor = MoneyExtractor(morph_vocab)\n",
        "addr_extractor = AddrExtractor(morph_vocab)"
      ],
      "execution_count": null,
      "outputs": [
        {
          "output_type": "stream",
          "text": [
            "Collecting natasha\n",
            "\u001b[?25l  Downloading https://files.pythonhosted.org/packages/51/8e/ab0745100be276750fb6b8858c6180a1756696572295a74eb5aea77f3bbd/natasha-1.4.0-py3-none-any.whl (34.4MB)\n",
            "\u001b[K     |████████████████████████████████| 34.4MB 118kB/s \n",
            "\u001b[?25hCollecting navec>=0.9.0\n",
            "  Downloading https://files.pythonhosted.org/packages/bc/c1/771ec5565f0ce24874d7fd325b429f9caa80517a40d2e4ce5705120591f3/navec-0.10.0-py3-none-any.whl\n",
            "Collecting yargy>=0.14.0\n",
            "\u001b[?25l  Downloading https://files.pythonhosted.org/packages/d3/46/bc1a17200a55f4b0608f39ac64f1840fd4a52f9eeea462d9afecbf71246b/yargy-0.15.0-py3-none-any.whl (41kB)\n",
            "\u001b[K     |████████████████████████████████| 51kB 6.3MB/s \n",
            "\u001b[?25hCollecting razdel>=0.5.0\n",
            "  Downloading https://files.pythonhosted.org/packages/15/2c/664223a3924aa6e70479f7d37220b3a658765b9cfe760b4af7ffdc50d38f/razdel-0.5.0-py3-none-any.whl\n",
            "Collecting ipymarkup>=0.8.0\n",
            "  Downloading https://files.pythonhosted.org/packages/bf/9b/bf54c98d50735a4a7c84c71e92c5361730c878ebfe903d2c2d196ef66055/ipymarkup-0.9.0-py3-none-any.whl\n",
            "Collecting slovnet>=0.3.0\n",
            "\u001b[?25l  Downloading https://files.pythonhosted.org/packages/a9/3b/f1ef495be8990004959dd0510c95f688d1b07529f6a862bc56a405770b26/slovnet-0.5.0-py3-none-any.whl (49kB)\n",
            "\u001b[K     |████████████████████████████████| 51kB 6.4MB/s \n",
            "\u001b[?25hCollecting pymorphy2\n",
            "\u001b[?25l  Downloading https://files.pythonhosted.org/packages/07/57/b2ff2fae3376d4f3c697b9886b64a54b476e1a332c67eee9f88e7f1ae8c9/pymorphy2-0.9.1-py3-none-any.whl (55kB)\n",
            "\u001b[K     |████████████████████████████████| 61kB 7.2MB/s \n",
            "\u001b[?25hRequirement already satisfied: numpy in /usr/local/lib/python3.7/dist-packages (from navec>=0.9.0->natasha) (1.19.5)\n",
            "Collecting intervaltree>=3\n",
            "  Downloading https://files.pythonhosted.org/packages/50/fb/396d568039d21344639db96d940d40eb62befe704ef849b27949ded5c3bb/intervaltree-3.1.0.tar.gz\n",
            "Collecting pymorphy2-dicts-ru<3.0,>=2.4\n",
            "\u001b[?25l  Downloading https://files.pythonhosted.org/packages/3a/79/bea0021eeb7eeefde22ef9e96badf174068a2dd20264b9a378f2be1cdd9e/pymorphy2_dicts_ru-2.4.417127.4579844-py2.py3-none-any.whl (8.2MB)\n",
            "\u001b[K     |████████████████████████████████| 8.2MB 32.5MB/s \n",
            "\u001b[?25hCollecting dawg-python>=0.7.1\n",
            "  Downloading https://files.pythonhosted.org/packages/6a/84/ff1ce2071d4c650ec85745766c0047ccc3b5036f1d03559fd46bb38b5eeb/DAWG_Python-0.7.2-py2.py3-none-any.whl\n",
            "Requirement already satisfied: docopt>=0.6 in /usr/local/lib/python3.7/dist-packages (from pymorphy2->natasha) (0.6.2)\n",
            "Requirement already satisfied: sortedcontainers<3.0,>=2.0 in /usr/local/lib/python3.7/dist-packages (from intervaltree>=3->ipymarkup>=0.8.0->natasha) (2.4.0)\n",
            "Building wheels for collected packages: intervaltree\n",
            "  Building wheel for intervaltree (setup.py) ... \u001b[?25l\u001b[?25hdone\n",
            "  Created wheel for intervaltree: filename=intervaltree-3.1.0-py2.py3-none-any.whl size=26120 sha256=0092e5b061b1f4da5f79c17a24e87f5b97cc6acf8015609083046ba7cd39e266\n",
            "  Stored in directory: /root/.cache/pip/wheels/f3/f2/66/e9c30d3e9499e65ea2fa0d07c002e64de63bd0adaa49c445bf\n",
            "Successfully built intervaltree\n",
            "Installing collected packages: navec, pymorphy2-dicts-ru, dawg-python, pymorphy2, yargy, razdel, intervaltree, ipymarkup, slovnet, natasha\n",
            "  Found existing installation: intervaltree 2.1.0\n",
            "    Uninstalling intervaltree-2.1.0:\n",
            "      Successfully uninstalled intervaltree-2.1.0\n",
            "Successfully installed dawg-python-0.7.2 intervaltree-3.1.0 ipymarkup-0.9.0 natasha-1.4.0 navec-0.10.0 pymorphy2-0.9.1 pymorphy2-dicts-ru-2.4.417127.4579844 razdel-0.5.0 slovnet-0.5.0 yargy-0.15.0\n"
          ],
          "name": "stdout"
        }
      ]
    },
    {
      "cell_type": "code",
      "metadata": {
        "id": "GlEVJyWOkt4I"
      },
      "source": [
        "data = parsed_table"
      ],
      "execution_count": null,
      "outputs": []
    },
    {
      "cell_type": "code",
      "metadata": {
        "id": "cHo503zikx53"
      },
      "source": [
        "def get_board(content):\n",
        "  ind = 0\n",
        "  text = ' '\n",
        "  i = 0\n",
        "  # если ничего не упоминается про совет директоров, то выбора тем более не было\n",
        "  if content.lower().find('совет директоров') == -1 and content.lower().find('совета директоров') == -1:\n",
        "      if content.lower().count('директор') <= 1 or (content.lower().count('совет директор') == 0 and content.lower().count('совета директор') == 0):\n",
        "        text = 'Вопрос не поднимался'\n",
        "  # иначе циклом ищем тот кусок текста, где есть совет директоров, но уже нет ревизионной комиссии\n",
        "  else:\n",
        "      while len(text) < 150:\n",
        "        x = content[ind + 10:]\n",
        "        ind = x.lower().find('совет директоров') + ind\n",
        "        if ind == -1:\n",
        "            ind = x.lower().find('совета директоров') + ind\n",
        "        if ind != -1 + ind:\n",
        "          ind1 = x[ind:].lower().find('ревизион') \n",
        "          if ind1 != -1:\n",
        "            text = x[ind:ind1+ind]\n",
        "          else:\n",
        "            ind1 = x[ind:].lower().find('аудитор')\n",
        "            if ind1 != -1:                                 \n",
        "              text = x[ind:ind1+ind] \n",
        "            else:\n",
        "              text = x[ind:] + ' '*100\n",
        "        elif ind == -1 and content.lower().count('директор') <= 1:\n",
        "              text = 'Вопрос не поднимался'\n",
        "        \n",
        "        # Это чтобы не допустить вечный цикл\n",
        "        else:\n",
        "          text = ' '*150\n",
        "        \n",
        "        i +=1\n",
        "        if i >= 10:\n",
        "          text = ' '*150\n",
        "      \n",
        "      # чтобы легче было увидеть ненайденные \n",
        "      if text == ' '*150:\n",
        "        text = np.nan\n",
        "\n",
        "      # проверка, чтобы точно не обрабатывать потом куски, где нет совета директоров\n",
        "      if text == np.nan:\n",
        "        ind = 0\n",
        "        ind = content.lower().find('совет директоров') + ind\n",
        "        if ind == -1:\n",
        "            ind = content.lower().find('совета директоров') + ind\n",
        "        if ind == -1 and content.lower().count('директор') <= 1:\n",
        "            text = 'Вопрос не поднимался'\n",
        "\n",
        "      # непустые теперь обрабатываем Наташей\n",
        "      if text != 'Вопрос не поднимался' and text != np.nan:\n",
        "          # переводим текст в док, с которым удобно работать наташе, и обрабатываем\n",
        "          doc = Doc(str(text))\n",
        "          doc.segment(segmenter)\n",
        "          doc.tag_morph(morph_tagger)\n",
        "          doc.parse_syntax(syntax_parser)\n",
        "          doc.tag_ner(ner_tagger)\n",
        "          dir = []\n",
        "          # оставляем только токены с типом PER - человек\n",
        "          for span in doc.spans:\n",
        "              # нормализуем, чтобы привести совет директоров в именительном падеже\n",
        "              span.normalize(morph_vocab)\n",
        "              if span.type == 'PER':\n",
        "                  dir.append(span.normal)\n",
        "          text = dir\n",
        "  # возвращаем список людей, которые были избраны в совет директоров\n",
        "  return text\n",
        "  "
      ],
      "execution_count": null,
      "outputs": []
    },
    {
      "cell_type": "code",
      "metadata": {
        "id": "TbdHBYxXk1IG"
      },
      "source": [
        "# вытащим СД\n",
        "data['Совет директоров'] = data.content.apply(get_board)\n",
        "\n",
        "# Так как у нас нет разметки, а пустых ячеек тоже нет, то сложно судить о качестве данной модели, но в случайной выборке из 10 наблюдений все списки оказались верными."
      ],
      "execution_count": null,
      "outputs": []
    },
    {
      "cell_type": "code",
      "metadata": {
        "id": "QwZUxMaLnJEl"
      },
      "source": [
        "# parsed_table.to_excel('parsed and found.xlsx', index=False)\n",
        "# partial_res = pd.read_excel('/content/SASemitents/parsed_and_found.xlsx')"
      ],
      "execution_count": null,
      "outputs": []
    },
    {
      "cell_type": "code",
      "metadata": {
        "id": "BsHcps2wwtgU",
        "colab": {
          "base_uri": "https://localhost:8080/"
        },
        "outputId": "b31c2724-d787-445b-c91c-59d759c3b68b"
      },
      "source": [
        "np.sum(parsed_table['Совет директоров'] == \"Доделать\")"
      ],
      "execution_count": 48,
      "outputs": [
        {
          "output_type": "execute_result",
          "data": {
            "text/plain": [
              "0"
            ]
          },
          "metadata": {
            "tags": []
          },
          "execution_count": 48
        }
      ]
    },
    {
      "cell_type": "code",
      "metadata": {
        "id": "zeyV_yiYmMZB"
      },
      "source": [
        "parsed_table.to_excel(\"prs.xlsx\")"
      ],
      "execution_count": null,
      "outputs": []
    }
  ]
}